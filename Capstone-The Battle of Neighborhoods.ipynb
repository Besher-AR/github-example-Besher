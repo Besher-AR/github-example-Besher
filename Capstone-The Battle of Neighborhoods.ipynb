{
    "nbformat_minor": 1, 
    "cells": [
        {
            "source": "# Capstone Project - The Battle of Neighbourhoods", 
            "cell_type": "markdown", 
            "metadata": {}
        }, 
        {
            "source": "# Introduction / Business Problem", 
            "cell_type": "markdown", 
            "metadata": {}
        }, 
        {
            "source": "Which locality of all the cities in United States would be the best place to start a Water Park?   \nI met a businessman who is interested in starting a Water Park in the best locality of all the cities in United states.   \nHe defines a best locatlity based on the following constraints:   \n1. Population density of a locality\n2. Per Capital income\n3. Population of each location\n4. Venues in each locality   \n\nThe category of the venues that he's interested in are:\n\n1. Arts and Entertainment\n2. Shops & Service\n3. College and University\n4. Event\n5. Food\n6. Nightife Spot\n7. Outdoors & Recreation\n7. Professional & Other places\n8. Residence\n9. Travel & Transport", 
            "cell_type": "markdown", 
            "metadata": {}
        }, 
        {
            "source": "# Data", 
            "cell_type": "markdown", 
            "metadata": {}
        }, 
        {
            "source": "To help  set up a Water Park, we will get the data from the below sources:   \nList of all the cities in United States with population density and coordinates: https://en.wikipedia.org/wiki/List_of_United_States_cities_by_population   \n\nList of all the cities in United States with Per Capita Income : https://en.wikipedia.org/wiki/List_of_United_States_counties_by_per_capita_income   \nUsing Four Square API to get the following\n1. List of all venues in each city\n2. List of all venues in each locality in the selected city\n\nUsing the above data we will first select best city to proceed with based on the values like Population density, per capita income of the state, number of venues (as we are giving weights to each venue based on its category).\n\nOnce we select a city, we then go hunting for Localities. Again, we do it using the same approach i.e. based on the scores of venues in each locality.", 
            "cell_type": "markdown", 
            "metadata": {}
        }, 
        {
            "execution_count": null, 
            "cell_type": "code", 
            "metadata": {}, 
            "outputs": [], 
            "source": ""
        }
    ], 
    "metadata": {
        "kernelspec": {
            "display_name": "Python 3.6", 
            "name": "python3", 
            "language": "python"
        }, 
        "language_info": {
            "mimetype": "text/x-python", 
            "nbconvert_exporter": "python", 
            "version": "3.6.8", 
            "name": "python", 
            "file_extension": ".py", 
            "pygments_lexer": "ipython3", 
            "codemirror_mode": {
                "version": 3, 
                "name": "ipython"
            }
        }
    }, 
    "nbformat": 4
}